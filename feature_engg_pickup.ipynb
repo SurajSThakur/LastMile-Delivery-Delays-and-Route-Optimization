{
 "cells": [
  {
   "cell_type": "code",
   "execution_count": 1,
   "id": "a85dcb8a-8425-4ecd-96cb-0b986f97180c",
   "metadata": {},
   "outputs": [],
   "source": [
    "import os\n",
    "from pyspark.sql import SparkSession\n",
    "from pyspark.sql import functions as F\n",
    "from pyspark.sql.functions import *\n",
    "from pyspark.ml.feature import VectorAssembler, StandardScaler, PCA, OneHotEncoder, StringIndexer\n",
    "import pandas as pd\n",
    "import numpy as np\n",
    "from pyspark.ml.clustering import KMeans\n",
    "import matplotlib.pyplot as plt\n",
    "from pyspark.ml import Pipeline\n",
    "from pyspark.ml.evaluation import ClusteringEvaluator\n",
    "from pyspark.sql.types import ArrayType, DoubleType\n",
    "from sklearn.preprocessing import LabelEncoder\n",
    "from sklearn.feature_selection import mutual_info_regression"
   ]
  },
  {
   "cell_type": "markdown",
   "id": "2fac771f-701d-4282-999d-7abc2aba428a",
   "metadata": {},
   "source": [
    "### Read the pickup data"
   ]
  },
  {
   "cell_type": "code",
   "execution_count": 2,
   "id": "1d54c23c-85e3-4f04-9fa3-9916c15690aa",
   "metadata": {},
   "outputs": [],
   "source": [
    "postgresql_jdbc_jar = r\"C:/Program Files/PostgreSQL/17/postgresql-42.7.4.jar\"\n",
    "spark = SparkSession.builder.appName('FeatureEngineering')\\\n",
    "                            .config(\"spark.jars\", postgresql_jdbc_jar) \\\n",
    "                            .config(\"spark.driver.extraClassPath\", postgresql_jdbc_jar) \\\n",
    "                            .config(\"spark.driver.memory\", \"8g\")\\\n",
    "                            .config(\"spark.executor.memory\", \"8g\")\\\n",
    "                            .config(\"spark.executor.cores\", \"4\")\\\n",
    "                            .getOrCreate()"
   ]
  },
  {
   "cell_type": "code",
   "execution_count": 3,
   "id": "e1ec3d7b-3cf1-4708-8289-bb456cdeb1f2",
   "metadata": {},
   "outputs": [
    {
     "name": "stdout",
     "output_type": "stream",
     "text": [
      "Number of rows in the DataFrame: 4005691\n"
     ]
    }
   ],
   "source": [
    "# Database connection parameters\n",
    "url = \"jdbc:postgresql://localhost:5432/postgres\"\n",
    "properties = {\n",
    "    \"user\": \"postgres\",\n",
    "    \"password\": \"root\",\n",
    "    \"driver\": \"org.postgresql.Driver\"\n",
    "}\n",
    "\n",
    "# Query to filter cities Hangzhou and Shanghai\n",
    "query = \"(SELECT * FROM pickup_data WHERE city IN ('Chongqing', 'Shanghai', 'Yantai', 'Jilin')) AS filtered_data\"\n",
    "\n",
    "# Load the data into a PySpark DataFrame\n",
    "df_pickup = spark.read.jdbc(url=url, table=query, properties=properties)\n",
    "\n",
    "# Show the first few rows\n",
    "row_count = df_pickup.count()\n",
    "print(f\"Number of rows in the DataFrame: {row_count}\")"
   ]
  },
  {
   "cell_type": "code",
   "execution_count": 4,
   "id": "e53afad0-f4e3-4174-92bd-9b2fe2165cbb",
   "metadata": {},
   "outputs": [
    {
     "name": "stdout",
     "output_type": "stream",
     "text": [
      "root\n",
      " |-- order_id: integer (nullable = true)\n",
      " |-- region_id: integer (nullable = true)\n",
      " |-- city: string (nullable = true)\n",
      " |-- courier_id: integer (nullable = true)\n",
      " |-- accept_time: timestamp (nullable = true)\n",
      " |-- time_window_start: timestamp (nullable = true)\n",
      " |-- time_window_end: timestamp (nullable = true)\n",
      " |-- aoi_id: integer (nullable = true)\n",
      " |-- aoi_type: integer (nullable = true)\n",
      " |-- pickup_time: timestamp (nullable = true)\n",
      " |-- ds: integer (nullable = true)\n",
      " |-- lng: double (nullable = true)\n",
      " |-- lat: double (nullable = true)\n",
      " |-- pickup_gps_lng: double (nullable = true)\n",
      " |-- pickup_gps_lat: double (nullable = true)\n",
      " |-- accept_gps_lng: double (nullable = true)\n",
      " |-- accept_gps_lat: double (nullable = true)\n",
      " |-- pickup_eta_minutes: double (nullable = true)\n",
      "\n"
     ]
    }
   ],
   "source": [
    "df_pickup.printSchema()"
   ]
  },
  {
   "cell_type": "code",
   "execution_count": 5,
   "id": "69f36d43",
   "metadata": {},
   "outputs": [],
   "source": [
    "df_pickup = df_pickup.drop('pickup_eta_minutes')"
   ]
  },
  {
   "cell_type": "markdown",
   "id": "16a76a7a-8d0b-4ebc-96f8-551ffcd9496b",
   "metadata": {
    "jp-MarkdownHeadingCollapsed": true
   },
   "source": [
    "### Time-Based Features"
   ]
  },
  {
   "cell_type": "code",
   "execution_count": 6,
   "id": "3a968e69-9311-4454-9c2b-7df57f140da8",
   "metadata": {},
   "outputs": [
    {
     "name": "stdout",
     "output_type": "stream",
     "text": [
      "+------------------+-----------------+\n",
      "|pickup_eta_minutes|pickup_time_delay|\n",
      "+------------------+-----------------+\n",
      "|              74.0|             -6.0|\n",
      "|            1526.0|              6.0|\n",
      "|             157.0|             77.0|\n",
      "|             180.0|            100.0|\n",
      "|              13.0|            -67.0|\n",
      "|             651.0|           -989.0|\n",
      "|             164.0|             84.0|\n",
      "|             174.0|             94.0|\n",
      "|             367.0|             47.0|\n",
      "|             200.0|              0.0|\n",
      "+------------------+-----------------+\n",
      "only showing top 10 rows\n",
      "\n"
     ]
    }
   ],
   "source": [
    "from pyspark.sql.functions import col, mean\n",
    "\n",
    "# Extracting hour, day of the week, and month from the `accept_time` column\n",
    "df_pickup = df_pickup.withColumn(\"hour_of_day\", F.hour(df_pickup[\"accept_time\"])) \\\n",
    "       .withColumn(\"day_of_week\", F.dayofweek(df_pickup[\"accept_time\"])) \\\n",
    "       .withColumn(\"month\", F.month(df_pickup[\"accept_time\"]))\n",
    "\n",
    "# Calculate time taken for pickup (in minutes) which is already calculated in pickup_eta_minutes\n",
    "\n",
    "# Calculate the time difference between expected and actual pickup time in minutes\n",
    "# expected_pickup_time = time_window_start\n",
    "# actual pickup time = pickup_time\n",
    "# A positive value means the pickup happened after the expected time (late pickup), \n",
    "# while a negative value means it happened earlier than expected (early pickup).\n",
    "\n",
    "# # Compute avg_pickup_time_minutes\n",
    "# avg_pickup_time = df_pickup.select(expr(\"percentile_approx(pickup_eta_minutes, 0.50)\")).collect()[0][0]\n",
    "\n",
    "# # Compute pickup_time_delay\n",
    "# df_pickup = df_pickup.withColumn(\"pickup_time_delay\", col(\"pickup_eta_minutes\") - avg_pickup_time)\n",
    "\n",
    "df_pickup = df_pickup.withColumn(\"pickup_eta_minutes\",\n",
    "                  (df_pickup[\"pickup_time\"].cast(\"long\") - df_pickup[\"accept_time\"].cast(\"long\")) / 60)\n",
    "\n",
    "df_pickup = df_pickup.withColumn(\"pickup_time_delay\",\n",
    "                  (df_pickup[\"pickup_time\"].cast(\"long\") - df_pickup[\"time_window_start\"].cast(\"long\")) / 60)\n",
    "\n",
    "# Show result\n",
    "df_pickup.select(\"pickup_eta_minutes\", \"pickup_time_delay\").show(10)"
   ]
  },
  {
   "cell_type": "code",
   "execution_count": 8,
   "id": "b4d715de",
   "metadata": {},
   "outputs": [
    {
     "name": "stdout",
     "output_type": "stream",
     "text": [
      "Number of negative values in column 'pickup_time_delay': 1043616\n"
     ]
    }
   ],
   "source": [
    "from pyspark.sql.functions import col\n",
    "\n",
    "# Replace 'column_name' with your actual column name\n",
    "negative_count = df_pickup.filter(col(\"pickup_time_delay\") < 0).count()\n",
    "\n",
    "print(f\"Number of negative values in column 'pickup_time_delay': {negative_count}\")"
   ]
  },
  {
   "cell_type": "code",
   "execution_count": 8,
   "id": "ab4f9ce3-8a60-4769-abe0-9deff2ca7b06",
   "metadata": {},
   "outputs": [
    {
     "name": "stdout",
     "output_type": "stream",
     "text": [
      "+-----------+-----------+-----+-----------------+\n",
      "|hour_of_day|day_of_week|month|pickup_time_delay|\n",
      "+-----------+-----------+-----+-----------------+\n",
      "|          9|          4|   10|            -52.0|\n",
      "|          9|          4|   10|             27.0|\n",
      "|          9|          4|   10|            -81.0|\n",
      "|          9|          4|   10|             24.0|\n",
      "|          9|          4|   10|           -122.0|\n",
      "+-----------+-----------+-----+-----------------+\n",
      "only showing top 5 rows\n",
      "\n"
     ]
    }
   ],
   "source": [
    "df_pickup.select(\"hour_of_day\", \"day_of_week\", \"month\", \"pickup_time_delay\").show(5)"
   ]
  },
  {
   "cell_type": "code",
   "execution_count": 9,
   "id": "0852da0c-fb31-498d-8697-b075d8c9b614",
   "metadata": {},
   "outputs": [
    {
     "name": "stdout",
     "output_type": "stream",
     "text": [
      "+--------+---------+-----------------+\n",
      "|order_id|     city|pickup_time_delay|\n",
      "+--------+---------+-----------------+\n",
      "|  998888|    Jilin|            -52.0|\n",
      "| 5524389|   Yantai|            -81.0|\n",
      "|  221410| Shanghai|           -122.0|\n",
      "| 5452642| Shanghai|             -9.0|\n",
      "| 4972100|Chongqing|            -31.0|\n",
      "+--------+---------+-----------------+\n",
      "only showing top 5 rows\n",
      "\n"
     ]
    }
   ],
   "source": [
    "# Filter rows where pickup_time_difference is negative\n",
    "df_negative_pickups = df_pickup.filter(df_pickup[\"pickup_time_delay\"] < 0)\n",
    "df_negative_pickups.select(\"order_id\",\"city\", \"pickup_time_delay\").show(5)"
   ]
  },
  {
   "cell_type": "markdown",
   "id": "666d56ef-ba2b-4bf8-936a-ba232c282b70",
   "metadata": {
    "jp-MarkdownHeadingCollapsed": true
   },
   "source": [
    "### Geospatial Features"
   ]
  },
  {
   "cell_type": "markdown",
   "id": "42fc70ee-ba7c-4636-9ea7-0708d64225c5",
   "metadata": {
    "jp-MarkdownHeadingCollapsed": true
   },
   "source": [
    "#### Calculate the distance between pickup and delivery locations using Haversine Formula."
   ]
  },
  {
   "cell_type": "code",
   "execution_count": 10,
   "id": "607794e8-30b6-48b0-9e9d-9fc5764e425b",
   "metadata": {},
   "outputs": [],
   "source": [
    "# Define the Haversine function to calculate distance between two points on the Earth\n",
    "def haversine(lat1, lon1, lat2, lon2):\n",
    "    R = 6371  # Radius of the Earth in kilometers\n",
    "    \n",
    "    dlat = radians(lat2 - lat1)  # Difference in latitudes (radians)\n",
    "    dlon = radians(lon2 - lon1)  # Difference in longitudes (radians)\n",
    "    \n",
    "    # Apply Haversine formula to calculate the \"a\" value\n",
    "    a = sin(dlat / 2)**2 + cos(radians(lat1)) * cos(radians(lat2)) * sin(dlon / 2)**2\n",
    "    # calculate the central angle between two points\n",
    "    c = 2 * atan2(sqrt(a), sqrt(1 - a))\n",
    "    \n",
    "    # Compute the distance in KM using the radius of Earth (R) and the central angle (c)\n",
    "    distance = R * c \n",
    "    return distance\n",
    "\n",
    "# Apply the Haversine function to the DataFrame to calculate the distance in KM\n",
    "df_pickup = df_pickup.withColumn(\"pickup_distance_km\", \n",
    "                                 haversine(df_pickup[\"pickup_gps_lat\"], df_pickup[\"pickup_gps_lng\"],\n",
    "                                           df_pickup[\"accept_gps_lat\"], df_pickup[\"accept_gps_lng\"]))\n",
    "# Round the 'pickup_distance_km' column to 2 decimal places\n",
    "df_pickup = df_pickup.withColumn(\"pickup_distance_km\", round(df_pickup[\"pickup_distance_km\"], 2))"
   ]
  },
  {
   "cell_type": "code",
   "execution_count": 11,
   "id": "ace008e6-0625-470b-ae64-fe13911ce47c",
   "metadata": {},
   "outputs": [
    {
     "name": "stdout",
     "output_type": "stream",
     "text": [
      "+--------+--------------+--------------+--------------+--------------+------------------+\n",
      "|order_id|pickup_gps_lat|pickup_gps_lng|accept_gps_lat|accept_gps_lng|pickup_distance_km|\n",
      "+--------+--------------+--------------+--------------+--------------+------------------+\n",
      "|  998888|      43.87979|     126.56965|      43.88011|     126.57201|              0.19|\n",
      "| 1817267|      29.49215|     106.47098|      29.49172|     106.47445|              0.34|\n",
      "| 5524389|       36.7588|     121.17365|      32.70376|     118.54136|            510.99|\n",
      "| 3124312|      32.57753|     118.38133|      32.70376|     118.54136|             20.53|\n",
      "|  221410|      31.19308|     121.70351|      31.19639|     121.70901|              0.64|\n",
      "| 3287344|      29.70265|     107.37631|      29.70634|     107.37352|              0.49|\n",
      "|  964270|      31.24391|     121.41594|      31.23992|     121.41514|              0.45|\n",
      "| 3835946|      37.60493|     120.47227|      37.60347|     120.47835|              0.56|\n",
      "| 3408841|      37.53668|     121.24664|      32.70376|     118.54136|            590.97|\n",
      "| 5452642|      31.19221|     121.71073|      31.19081|     121.71195|              0.19|\n",
      "+--------+--------------+--------------+--------------+--------------+------------------+\n",
      "only showing top 10 rows\n",
      "\n"
     ]
    }
   ],
   "source": [
    "df_pickup.select(\"order_id\",\"pickup_gps_lat\",\"pickup_gps_lng\",\"accept_gps_lat\",\"accept_gps_lng\",\"pickup_distance_km\").show(10)"
   ]
  },
  {
   "cell_type": "markdown",
   "id": "477a8c01-c69b-415e-bae5-9f20679d8174",
   "metadata": {
    "jp-MarkdownHeadingCollapsed": true
   },
   "source": [
    "#### Cluster regions using K-Means or DBSCAN for better route mapping."
   ]
  },
  {
   "cell_type": "code",
   "execution_count": 12,
   "id": "0132ce11-71d6-4efd-b5a0-9a18a92948ce",
   "metadata": {},
   "outputs": [],
   "source": [
    "# observing above regions and number of orders they have we can see here is a large variation in the number of rows (packages) across regions, \n",
    "# DBSCAN would be a more appropriate clustering algorithm for this scenario as It can handle regions where some areas are densely packed with \n",
    "# packages (e.g., urban centers) while others have fewer packages (e.g., rural areas).\n",
    "# Also it doesn't require the number of clusters to be predefined and can naturally identify clusters of different shapes and sizes."
   ]
  },
  {
   "cell_type": "code",
   "execution_count": 13,
   "id": "e388d01f-fa2a-4d9a-9f2b-f4bb2d8764bf",
   "metadata": {},
   "outputs": [],
   "source": [
    "# Step 1: Select the relevant geographic columns (Longitude and Latitude)\n",
    "feature_columns = [\"pickup_gps_lng\", \"pickup_gps_lat\"]\n",
    "\n",
    "# Step 2: Vectorize the geographic features into a single vector column 'features'\n",
    "vector_assembler = VectorAssembler(inputCols=feature_columns, outputCol=\"features\")\n",
    "df_vectorized = vector_assembler.transform(df_pickup)\n",
    "\n",
    "# Step 4: Apply KMeans with a specified number of clusters (let's say 5)\n",
    "kmeans = KMeans(k=25, seed=1, featuresCol=\"features\", predictionCol=\"cluster\")\n",
    "model = kmeans.fit(df_vectorized)\n",
    "\n",
    "# Step 5: Make predictions (assign clusters to the data)\n",
    "predictions = model.transform(df_vectorized)"
   ]
  },
  {
   "cell_type": "code",
   "execution_count": 14,
   "id": "eaa2a971-743d-47fa-b4c9-58480a03d313",
   "metadata": {},
   "outputs": [
    {
     "name": "stdout",
     "output_type": "stream",
     "text": [
      "+--------+---------+-------+\n",
      "|order_id|     city|cluster|\n",
      "+--------+---------+-------+\n",
      "|  998888|    Jilin|      2|\n",
      "| 1817267|Chongqing|     12|\n",
      "| 5524389|   Yantai|      8|\n",
      "| 3124312|Chongqing|      4|\n",
      "|  221410| Shanghai|      0|\n",
      "| 3287344|Chongqing|      1|\n",
      "|  964270| Shanghai|     24|\n",
      "| 3835946|   Yantai|      9|\n",
      "| 3408841|   Yantai|      5|\n",
      "| 5452642| Shanghai|      0|\n",
      "| 4972100|Chongqing|      6|\n",
      "| 5950591| Shanghai|      0|\n",
      "| 1084012|   Yantai|      5|\n",
      "| 1669840|Chongqing|     12|\n",
      "| 1649197|Chongqing|      6|\n",
      "| 2324275|   Yantai|      5|\n",
      "| 2805523|Chongqing|      6|\n",
      "|  377878| Shanghai|      0|\n",
      "| 3649709|   Yantai|      4|\n",
      "| 3350698| Shanghai|      0|\n",
      "+--------+---------+-------+\n",
      "only showing top 20 rows\n",
      "\n"
     ]
    }
   ],
   "source": [
    "# Step 7: Show some of the prediction results (assigned cluster labels)\n",
    "predictions.select(\"order_id\", \"city\", \"cluster\").show()"
   ]
  },
  {
   "cell_type": "code",
   "execution_count": 15,
   "id": "f006f631-689c-48fc-81e6-60b3e1b8c451",
   "metadata": {},
   "outputs": [],
   "source": [
    "predictions = predictions.drop('features')"
   ]
  },
  {
   "cell_type": "markdown",
   "id": "309d4e72-fd8e-4809-883e-28b7de29900f",
   "metadata": {
    "jp-MarkdownHeadingCollapsed": true
   },
   "source": [
    "### Courier & Package Features"
   ]
  },
  {
   "cell_type": "markdown",
   "id": "2ba6729b-8dc0-458a-9ee6-d7195d89b4f6",
   "metadata": {
    "jp-MarkdownHeadingCollapsed": true
   },
   "source": [
    "#### Compute the average pickup time per courier"
   ]
  },
  {
   "cell_type": "code",
   "execution_count": 16,
   "id": "d3966950-7c05-4976-9272-a09537c9892c",
   "metadata": {},
   "outputs": [
    {
     "name": "stdout",
     "output_type": "stream",
     "text": [
      "+--------+---------+---------+----------+-------------------+-------------------+-------------------+------+--------+-------------------+----+---------+--------+--------------+--------------+--------------+--------------+------------------+-----------+-----------+-----+-----------------+------------------+-------+\n",
      "|order_id|region_id|     city|courier_id|        accept_time|  time_window_start|    time_window_end|aoi_id|aoi_type|        pickup_time|  ds|      lng|     lat|pickup_gps_lng|pickup_gps_lat|accept_gps_lng|accept_gps_lat|pickup_eta_minutes|hour_of_day|day_of_week|month|pickup_time_delay|pickup_distance_km|cluster|\n",
      "+--------+---------+---------+----------+-------------------+-------------------+-------------------+------+--------+-------------------+----+---------+--------+--------------+--------------+--------------+--------------+------------------+-----------+-----------+-----+-----------------+------------------+-------+\n",
      "|  998888|       90|    Jilin|      7180|2025-10-22 09:12:00|2025-10-22 13:00:00|2025-10-22 15:00:00| 17851|      14|2025-10-22 12:08:00|1022| 126.5703|43.87956|     126.56965|      43.87979|     126.57201|      43.88011|             176.0|          9|          4|   10|            -52.0|              0.19|      2|\n",
      "| 1817267|        3|Chongqing|      4647|2025-10-22 09:12:00|2025-10-22 09:12:00|2025-10-22 11:12:00|  6440|       1|2025-10-22 09:39:00|1022|106.47333|29.49159|     106.47098|      29.49215|     106.47445|      29.49172|              27.0|          9|          4|   10|             27.0|              0.34|     12|\n",
      "| 5524389|      119|   Yantai|       220|2025-10-22 09:12:00|2025-10-22 11:00:00|2025-10-22 13:00:00| 20018|      14|2025-10-22 09:39:00|1022|121.16514| 36.7777|     121.17365|       36.7588|     118.54136|      32.70376|              27.0|          9|          4|   10|            -81.0|            510.99|      8|\n",
      "| 3124312|       76|Chongqing|      1680|2025-10-22 09:12:00|2025-10-22 11:00:00|2025-10-22 13:00:00| 19427|       6|2025-10-22 11:24:00|1022|106.46119|29.55674|     118.38133|      32.57753|     118.54136|      32.70376|             132.0|          9|          4|   10|             24.0|             20.53|      4|\n",
      "|  221410|        5| Shanghai|      5749|2025-10-22 09:12:00|2025-10-22 13:00:00|2025-10-22 15:00:00|  5094|       1|2025-10-22 10:58:00|1022| 121.7028|31.19241|     121.70351|      31.19308|     121.70901|      31.19639|             106.0|          9|          4|   10|           -122.0|              0.64|      0|\n",
      "+--------+---------+---------+----------+-------------------+-------------------+-------------------+------+--------+-------------------+----+---------+--------+--------------+--------------+--------------+--------------+------------------+-----------+-----------+-----+-----------------+------------------+-------+\n",
      "only showing top 5 rows\n",
      "\n"
     ]
    }
   ],
   "source": [
    "# Group by courier_id and calculate the average pickup time delay (in minutes)\n",
    "average_pickup_time_per_courier = predictions.groupBy(\"courier_id\").agg(\n",
    "    F.avg(\"pickup_time_delay\").alias(\"avg_pickup_time_minutes\")\n",
    ")\n",
    "\n",
    "# Show the result\n",
    "predictions.show(5)\n",
    "predictions = predictions.join(\n",
    "    average_pickup_time_per_courier, on=\"courier_id\", how=\"left\")"
   ]
  },
  {
   "cell_type": "markdown",
   "id": "133bbaad-a327-42bc-8baf-d7bc7b3ae216",
   "metadata": {},
   "source": [
    "#### Extract package pickup patterns (e.g., peak hours, busiest locations)."
   ]
  },
  {
   "cell_type": "markdown",
   "id": "60152b9b-db29-4ed8-b944-e9e2f3910ce2",
   "metadata": {
    "jp-MarkdownHeadingCollapsed": true
   },
   "source": [
    "#### Peak hours"
   ]
  },
  {
   "cell_type": "code",
   "execution_count": 17,
   "id": "34713424-c095-4534-a19b-30622a39de35",
   "metadata": {},
   "outputs": [
    {
     "name": "stdout",
     "output_type": "stream",
     "text": [
      "+--------+-----------+------------------+\n",
      "|order_id|hour_of_day|pickup_order_count|\n",
      "+--------+-----------+------------------+\n",
      "|  998888|          9|            516633|\n",
      "| 1817267|          9|            516633|\n",
      "| 5524389|          9|            516633|\n",
      "| 3124312|          9|            516633|\n",
      "|  221410|          9|            516633|\n",
      "+--------+-----------+------------------+\n",
      "only showing top 5 rows\n",
      "\n"
     ]
    }
   ],
   "source": [
    "# Step 1: Group by hour_of_day and count the number of pickups (orders)\n",
    "pickup_by_hour = predictions.groupBy(\"hour_of_day\").agg(\n",
    "    F.count(\"order_id\").alias(\"pickup_order_count\")\n",
    ")\n",
    "\n",
    "# Step 2: Sort by the pickup count in descending order to find the peak hours\n",
    "pickup_by_hour_sorted = pickup_by_hour.orderBy(F.col(\"pickup_order_count\").desc())\n",
    "\n",
    "# Step 3: Join the pickup count by hour to the predictions DataFrame based on hour_of_day\n",
    "predictions = predictions.join(\n",
    "    pickup_by_hour_sorted, on=\"hour_of_day\", how=\"left\"\n",
    ")\n",
    "\n",
    "# Show the result: predictions with pickup count by hour\n",
    "predictions.select(\"order_id\", \"hour_of_day\", \"pickup_order_count\").show(5)"
   ]
  },
  {
   "cell_type": "markdown",
   "id": "ef5c9eba-b762-4719-861d-0652e45cb106",
   "metadata": {
    "jp-MarkdownHeadingCollapsed": true
   },
   "source": [
    "#### Busiest locations"
   ]
  },
  {
   "cell_type": "code",
   "execution_count": 18,
   "id": "b371d107-5745-4b58-83d2-fa42ac887a2c",
   "metadata": {},
   "outputs": [
    {
     "name": "stdout",
     "output_type": "stream",
     "text": [
      "+---------+----------------+\n",
      "|     city|city_order_count|\n",
      "+---------+----------------+\n",
      "| Shanghai|         1424406|\n",
      "|Chongqing|         1172703|\n",
      "|   Yantai|         1146781|\n",
      "|    Jilin|          261801|\n",
      "+---------+----------------+\n",
      "\n"
     ]
    }
   ],
   "source": [
    "df_busiest_locations = predictions.groupBy(\"city\") \\\n",
    "    .agg(F.count(\"order_id\").alias(\"city_order_count\")) \\\n",
    "    .orderBy(F.desc(\"city_order_count\"))\n",
    "df_busiest_locations.show(5)"
   ]
  },
  {
   "cell_type": "code",
   "execution_count": 19,
   "id": "a99116b4-4f21-4245-b48d-ae2a09890dd5",
   "metadata": {},
   "outputs": [],
   "source": [
    "# Step 3: Join the pickup count by hour to the predictions DataFrame based on hour_of_day\n",
    "predictions = predictions.join(\n",
    "    df_busiest_locations, on=\"city\", how=\"left\"\n",
    ")"
   ]
  },
  {
   "cell_type": "code",
   "execution_count": 20,
   "id": "21f2c79a-7b84-4d0c-b066-0c4b8ceaedbb",
   "metadata": {},
   "outputs": [
    {
     "name": "stdout",
     "output_type": "stream",
     "text": [
      "+--------+--------+----------------+\n",
      "|order_id|    city|city_order_count|\n",
      "+--------+--------+----------------+\n",
      "| 3385131|   Jilin|          261801|\n",
      "| 4933663|  Yantai|         1146781|\n",
      "| 6137240|Shanghai|         1424406|\n",
      "| 1226397|Shanghai|         1424406|\n",
      "| 1793373|Shanghai|         1424406|\n",
      "+--------+--------+----------------+\n",
      "only showing top 5 rows\n",
      "\n"
     ]
    }
   ],
   "source": [
    "predictions.select(\"order_id\", \"city\", \"city_order_count\").show(5)"
   ]
  },
  {
   "cell_type": "code",
   "execution_count": 21,
   "id": "88f27dce-200d-4357-91cd-0bb9502af04f",
   "metadata": {},
   "outputs": [
    {
     "name": "stdout",
     "output_type": "stream",
     "text": [
      "root\n",
      " |-- city: string (nullable = true)\n",
      " |-- hour_of_day: integer (nullable = true)\n",
      " |-- courier_id: integer (nullable = true)\n",
      " |-- order_id: integer (nullable = true)\n",
      " |-- region_id: integer (nullable = true)\n",
      " |-- accept_time: timestamp (nullable = true)\n",
      " |-- time_window_start: timestamp (nullable = true)\n",
      " |-- time_window_end: timestamp (nullable = true)\n",
      " |-- aoi_id: integer (nullable = true)\n",
      " |-- aoi_type: integer (nullable = true)\n",
      " |-- pickup_time: timestamp (nullable = true)\n",
      " |-- ds: integer (nullable = true)\n",
      " |-- lng: double (nullable = true)\n",
      " |-- lat: double (nullable = true)\n",
      " |-- pickup_gps_lng: double (nullable = true)\n",
      " |-- pickup_gps_lat: double (nullable = true)\n",
      " |-- accept_gps_lng: double (nullable = true)\n",
      " |-- accept_gps_lat: double (nullable = true)\n",
      " |-- pickup_eta_minutes: double (nullable = true)\n",
      " |-- day_of_week: integer (nullable = true)\n",
      " |-- month: integer (nullable = true)\n",
      " |-- pickup_time_delay: double (nullable = true)\n",
      " |-- pickup_distance_km: double (nullable = true)\n",
      " |-- cluster: integer (nullable = false)\n",
      " |-- avg_pickup_time_minutes: double (nullable = true)\n",
      " |-- pickup_order_count: long (nullable = true)\n",
      " |-- city_order_count: long (nullable = true)\n",
      "\n"
     ]
    }
   ],
   "source": [
    "predictions.printSchema()"
   ]
  },
  {
   "cell_type": "markdown",
   "id": "437a0a5f-0bbd-42e4-888e-9ae88156e72c",
   "metadata": {},
   "source": [
    "### Anomaly Detection Features"
   ]
  },
  {
   "cell_type": "markdown",
   "id": "91425ade-4689-4ee9-8f0f-43eaf1138c7c",
   "metadata": {
    "jp-MarkdownHeadingCollapsed": true
   },
   "source": [
    "#### Identify delays based on time threshold deviations"
   ]
  },
  {
   "cell_type": "code",
   "execution_count": null,
   "id": "814cf334-7b60-48dd-8bc2-8e93014761d6",
   "metadata": {},
   "outputs": [
    {
     "name": "stdout",
     "output_type": "stream",
     "text": [
      "+--------+---------+-----------------+-------------------+-------------------+----------+\n",
      "|order_id|     city|pickup_time_delay|        pickup_time|        accept_time|is_delayed|\n",
      "+--------+---------+-----------------+-------------------+-------------------+----------+\n",
      "| 5883271|   Yantai|             51.0|2025-07-24 17:51:00|2025-07-24 16:56:00|   Delayed|\n",
      "| 4303663|Chongqing|             37.0|2025-07-24 17:33:00|2025-07-24 16:56:00|   Delayed|\n",
      "| 3716828| Shanghai|              4.0|2025-07-24 17:04:00|2025-07-24 16:56:00|   Delayed|\n",
      "|  710918| Shanghai|             40.0|2025-07-24 17:40:00|2025-07-24 16:56:00|   Delayed|\n",
      "|  602713|    Jilin|            101.0|2025-07-24 18:41:00|2025-07-24 16:56:00|   Delayed|\n",
      "| 3739332|Chongqing|             10.0|2025-07-24 17:06:00|2025-07-24 16:56:00|   Delayed|\n",
      "| 2303104|   Yantai|             35.0|2025-07-24 17:35:00|2025-07-24 16:56:00|   Delayed|\n",
      "| 5105167| Shanghai|             76.0|2025-07-24 18:16:00|2025-07-24 16:56:00|   Delayed|\n",
      "| 5385590|Chongqing|          -1525.0|2025-07-28 15:35:00|2025-07-24 16:55:00|   On Time|\n",
      "| 1651351|   Yantai|             76.0|2025-07-24 18:11:00|2025-07-24 16:55:00|   Delayed|\n",
      "|  530325| Shanghai|             28.0|2025-07-24 17:28:00|2025-07-24 16:55:00|   Delayed|\n",
      "| 4097536|Chongqing|             10.0|2025-07-24 17:05:00|2025-07-24 16:55:00|   Delayed|\n",
      "| 5171292|Chongqing|             19.0|2025-07-24 17:14:00|2025-07-24 16:55:00|   Delayed|\n",
      "| 4353314|Chongqing|              4.0|2025-07-24 17:04:00|2025-07-24 16:55:00|   Delayed|\n",
      "| 1580860| Shanghai|             48.0|2025-07-24 17:48:00|2025-07-24 16:55:00|   Delayed|\n",
      "| 5298077|Chongqing|             34.0|2025-07-24 17:29:00|2025-07-24 16:55:00|   Delayed|\n",
      "| 2170956|    Jilin|             70.0|2025-07-24 18:10:00|2025-07-24 16:55:00|   Delayed|\n",
      "| 2601688|Chongqing|             20.0|2025-07-24 17:20:00|2025-07-24 16:55:00|   Delayed|\n",
      "| 2686641|Chongqing|              7.0|2025-07-24 17:07:00|2025-07-24 16:55:00|   Delayed|\n",
      "| 1265979| Shanghai|             44.0|2025-07-24 17:44:00|2025-07-24 16:54:00|   Delayed|\n",
      "+--------+---------+-----------------+-------------------+-------------------+----------+\n",
      "only showing top 20 rows\n",
      "\n"
     ]
    }
   ],
   "source": [
    "# Step 1: Define the threshold for delay\n",
    "# time_threshold = 360  # Set the threshold in minutes\n",
    "\n",
    "# Step 2: Identify delays based on the pickup time delay\n",
    "# We create a new column `is_delayed` that indicates if the delay is above the threshold\n",
    "predictions = predictions.withColumn(\n",
    "    \"is_delayed\", \n",
    "    F.when(F.col(\"pickup_time_delay\") > 0, \"Delayed\").otherwise(\"On Time\")\n",
    ")\n",
    "\n",
    "# Show the resulting DataFrame with the delay identification\n",
    "predictions.select(\n",
    "    \"order_id\", \n",
    "    \"city\", \n",
    "    \"pickup_time_delay\", \n",
    "    \"pickup_time\", \n",
    "    \"accept_time\", \n",
    "    \"is_delayed\"\n",
    ").show()"
   ]
  },
  {
   "cell_type": "markdown",
   "id": "1f339327-6698-4fa9-882f-c35fdbf3e298",
   "metadata": {
    "jp-MarkdownHeadingCollapsed": true
   },
   "source": [
    "#### Flag inconsistent geospatial entries (e.g., unrealistic speed between locations)."
   ]
  },
  {
   "cell_type": "code",
   "execution_count": 23,
   "id": "40a6e3c7-516e-4093-9605-5a1f0173cf1b",
   "metadata": {},
   "outputs": [
    {
     "name": "stdout",
     "output_type": "stream",
     "text": [
      "+--------+---------+------------------+-----------------+---------+-----------------+\n",
      "|order_id|     city|pickup_distance_km|pickup_time_delay|speed_kmh|     speed_status|\n",
      "+--------+---------+------------------+-----------------+---------+-----------------+\n",
      "| 5883271|   Yantai|               0.8|             51.0|        0|  Realistic Speed|\n",
      "| 4303663|Chongqing|              0.61|             37.0|        0|  Realistic Speed|\n",
      "| 3716828| Shanghai|             20.53|              4.0|      307|Unrealistic Speed|\n",
      "|  710918| Shanghai|              0.42|             40.0|        0|  Realistic Speed|\n",
      "|  602713|    Jilin|              1.51|            101.0|        0|  Realistic Speed|\n",
      "| 3739332|Chongqing|             20.53|             10.0|      123|Unrealistic Speed|\n",
      "| 2303104|   Yantai|              1.67|             35.0|        2|  Realistic Speed|\n",
      "| 5105167| Shanghai|             20.53|             76.0|       16|  Realistic Speed|\n",
      "| 5385590|Chongqing|           1202.73|          -1525.0|        0|  Realistic Speed|\n",
      "| 1651351|   Yantai|              0.87|             76.0|        0|  Realistic Speed|\n",
      "|  530325| Shanghai|              0.02|             28.0|        0|  Realistic Speed|\n",
      "| 4097536|Chongqing|              0.63|             10.0|        3|  Realistic Speed|\n",
      "| 5171292|Chongqing|              3.74|             19.0|       11|  Realistic Speed|\n",
      "| 4353314|Chongqing|             20.53|              4.0|      307|Unrealistic Speed|\n",
      "| 1580860| Shanghai|              0.35|             48.0|        0|  Realistic Speed|\n",
      "| 5298077|Chongqing|              0.08|             34.0|        0|  Realistic Speed|\n",
      "| 2170956|    Jilin|              0.16|             70.0|        0|  Realistic Speed|\n",
      "| 2601688|Chongqing|              0.83|             20.0|        2|  Realistic Speed|\n",
      "| 2686641|Chongqing|               0.2|              7.0|        1|  Realistic Speed|\n",
      "| 1265979| Shanghai|             20.53|             44.0|       27|  Realistic Speed|\n",
      "+--------+---------+------------------+-----------------+---------+-----------------+\n",
      "only showing top 20 rows\n",
      "\n"
     ]
    }
   ],
   "source": [
    "# Step 1: Convert pickup_time_delay from minutes to hours\n",
    "predictions = predictions.withColumn(\n",
    "    \"time_diff_hours\", \n",
    "    F.col(\"pickup_time_delay\") / 60  # Convert minutes to hours\n",
    ")\n",
    "\n",
    "# Step 2: Calculate the speed in km/h using the existing pickup_distance_km column\n",
    "predictions = predictions.withColumn(\n",
    "    \"speed_kmh\", \n",
    "    F.when(F.col(\"time_diff_hours\") > 0, F.floor(F.col(\"pickup_distance_km\") / F.col(\"time_diff_hours\"))).otherwise(0)\n",
    ")\n",
    "\n",
    "# Step 3: Flag entries with unrealistic speed\n",
    "speed_threshold = 100  # Define a reasonable speed threshold (in km/h)\n",
    "predictions = predictions.withColumn(\n",
    "    \"speed_status\", \n",
    "    F.when(F.col(\"speed_kmh\") > speed_threshold, \"Unrealistic Speed\").otherwise(\"Realistic Speed\")\n",
    ")\n",
    "\n",
    "predictions = predictions.drop(\"time_diff_hours\")\n",
    "\n",
    "# Show the resulting DataFrame with the speed status column\n",
    "predictions.select(\n",
    "    \"order_id\", \n",
    "    \"city\", \n",
    "    \"pickup_distance_km\", \n",
    "    \"pickup_time_delay\",  # Using existing column for time delay in minutes\n",
    "    \"speed_kmh\", \n",
    "    \"speed_status\"\n",
    ").show()"
   ]
  },
  {
   "cell_type": "markdown",
   "id": "6c568c42-16a0-466f-89d4-86033c3b6546",
   "metadata": {
    "jp-MarkdownHeadingCollapsed": true
   },
   "source": [
    "### Save Data"
   ]
  },
  {
   "cell_type": "code",
   "execution_count": 24,
   "id": "e682c45f-5613-4894-a5af-984541bbba8a",
   "metadata": {},
   "outputs": [],
   "source": [
    "predictions = predictions.drop('features','scaled_features')"
   ]
  },
  {
   "cell_type": "code",
   "execution_count": 25,
   "id": "c0b13084-9bf4-4856-acc7-27e81bc9420d",
   "metadata": {},
   "outputs": [],
   "source": [
    "# from pyspark.sql.functions import udf\n",
    "\n",
    "# # Convert vector column to array of doubles (e.g., 'features' or 'scaled_features')\n",
    "# def vector_to_array(vec):\n",
    "#     if isinstance(vec, Vector):\n",
    "#         return vec.toArray().tolist()\n",
    "#     else:\n",
    "#         return []\n",
    "\n",
    "# # Register the UDF\n",
    "# vector_to_array_udf = udf(vector_to_array, ArrayType(DoubleType()))\n",
    "\n",
    "# # Apply the UDF to your vector columns and convert them into array of doubles\n",
    "# predictions = predictions.withColumn(\"pca_features_array\", vector_to_array_udf(\"pca_features\"))\n",
    "\n",
    "# # Drop the original vector columns (if you no longer need them)\n",
    "# predictions = predictions.drop(\"pca_features\")  # Keep 'pca_features_array'"
   ]
  },
  {
   "cell_type": "code",
   "execution_count": 26,
   "id": "5172a9a1",
   "metadata": {},
   "outputs": [
    {
     "name": "stdout",
     "output_type": "stream",
     "text": [
      "['city', 'hour_of_day', 'courier_id', 'order_id', 'region_id', 'accept_time', 'time_window_start', 'time_window_end', 'aoi_id', 'aoi_type', 'pickup_time', 'ds', 'lng', 'lat', 'pickup_gps_lng', 'pickup_gps_lat', 'accept_gps_lng', 'accept_gps_lat', 'pickup_eta_minutes', 'day_of_week', 'month', 'pickup_time_delay', 'pickup_distance_km', 'cluster', 'avg_pickup_time_minutes', 'pickup_order_count', 'city_order_count', 'is_delayed', 'speed_kmh', 'speed_status']\n"
     ]
    }
   ],
   "source": [
    "print(predictions.columns) "
   ]
  },
  {
   "cell_type": "code",
   "execution_count": 29,
   "id": "6a261bd7-19f3-49a9-95f2-80e1b6ed9dae",
   "metadata": {},
   "outputs": [
    {
     "name": "stdout",
     "output_type": "stream",
     "text": [
      "Data Saved to Postgresql successfully\n"
     ]
    }
   ],
   "source": [
    "selected_columns = [\n",
    "    \"order_id\",\n",
    "    \"pickup_time\",\n",
    "    \"accept_time\",\n",
    "    \"hour_of_day\",\n",
    "    \"day_of_week\",\n",
    "    \"month\",\n",
    "    \"pickup_eta_minutes\",\n",
    "    \"pickup_time_delay\",\n",
    "    \"pickup_distance_km\",\n",
    "    \"cluster\",\n",
    "    \"avg_pickup_time_minutes\",\n",
    "    \"pickup_order_count\",\n",
    "    \"city\",\n",
    "    \"city_order_count\",\n",
    "    \"is_delayed\",\n",
    "    \"speed_kmh\",\n",
    "    \"speed_status\",\n",
    "]\n",
    "\n",
    "# Create a new DataFrame with only the selected columns\n",
    "final_predictions = predictions.select(*selected_columns)\n",
    "\n",
    "# Define PostgreSQL connection details\n",
    "jdbc_url = \"jdbc:postgresql://localhost:5432/postgres\"\n",
    "properties = {\n",
    "    \"user\": \"postgres\",\n",
    "    \"password\": \"root\",\n",
    "    \"driver\": \"org.postgresql.Driver\"\n",
    "}\n",
    "\n",
    "final_predictions.write.jdbc(\n",
    "    url=jdbc_url,\n",
    "    table=\"feature_engg_pickup_data\",\n",
    "    mode=\"overwrite\",\n",
    "    properties=properties,\n",
    ")\n",
    "print(\"Data Saved to Postgresql successfully\")"
   ]
  },
  {
   "cell_type": "code",
   "execution_count": 28,
   "id": "d8f7b237-234e-4d30-99ea-795e457fb649",
   "metadata": {},
   "outputs": [
    {
     "name": "stdout",
     "output_type": "stream",
     "text": [
      "Data saved to csv successfully\n"
     ]
    }
   ],
   "source": [
    "# Save the cleaned DataFrame to csv\n",
    "output_path = r'C:\\Users\\Dusty\\Downloads\\Internship\\Last-Mile-Delivery-Delays-and-Route-Optimization\\data\\feature_engg_pickup_data.csv'\n",
    "final_predictions.coalesce(1).write.option(\"header\", \"true\").csv(output_path, mode=\"overwrite\")\n",
    "print(\"Data saved to csv successfully\")"
   ]
  }
 ],
 "metadata": {
  "kernelspec": {
   "display_name": "Python 3",
   "language": "python",
   "name": "python3"
  },
  "language_info": {
   "codemirror_mode": {
    "name": "ipython",
    "version": 3
   },
   "file_extension": ".py",
   "mimetype": "text/x-python",
   "name": "python",
   "nbconvert_exporter": "python",
   "pygments_lexer": "ipython3",
   "version": "3.10.13"
  }
 },
 "nbformat": 4,
 "nbformat_minor": 5
}
