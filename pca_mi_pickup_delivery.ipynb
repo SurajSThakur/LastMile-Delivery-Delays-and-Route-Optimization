{
 "cells": [
  {
   "cell_type": "code",
   "execution_count": 21,
   "id": "771e2b2c-5e01-4ed3-bb11-8d0d05030527",
   "metadata": {},
   "outputs": [],
   "source": [
    "import pandas as pd\n",
    "from sklearn.feature_selection import mutual_info_classif, mutual_info_regression\n",
    "import psycopg2\n",
    "from sklearn.decomposition import PCA\n",
    "from sklearn.preprocessing import StandardScaler, LabelEncoder"
   ]
  },
  {
   "cell_type": "markdown",
   "id": "2e436d55-7adc-4fa3-89a9-665448b4e92d",
   "metadata": {
    "jp-MarkdownHeadingCollapsed": true
   },
   "source": [
    "### PCA And MI score for Pickup Data"
   ]
  },
  {
   "cell_type": "markdown",
   "id": "d4eef7ef-080a-4ed8-a467-59e3153f01b5",
   "metadata": {
    "jp-MarkdownHeadingCollapsed": true
   },
   "source": [
    "#### Reading the featured pickup data from postgresql"
   ]
  },
  {
   "cell_type": "code",
   "execution_count": 22,
   "id": "7cc0ec87-32f3-4688-a8ed-f85eb7cefe9d",
   "metadata": {},
   "outputs": [
    {
     "name": "stderr",
     "output_type": "stream",
     "text": [
      "C:\\Users\\Dusty\\AppData\\Local\\Temp\\ipykernel_30864\\3798793896.py:14: UserWarning: pandas only supports SQLAlchemy connectable (engine/connection) or database string URI or sqlite3 DBAPI2 connection. Other DBAPI2 objects are not tested. Please consider using SQLAlchemy.\n",
      "  df = pd.read_sql(query, conn)\n"
     ]
    }
   ],
   "source": [
    "# Create a connection to the PostgreSQL database\n",
    "conn = psycopg2.connect(\n",
    "    dbname=\"postgres\", \n",
    "    user=\"postgres\", \n",
    "    password=\"root\", \n",
    "    host=\"localhost\", \n",
    "    port=\"5432\"\n",
    ")\n",
    "\n",
    "# Query to get data\n",
    "query = \"SELECT * FROM feature_engg_pickup_data\"\n",
    "\n",
    "# Use pandas to read the SQL query result directly into a DataFrame\n",
    "df = pd.read_sql(query, conn)\n",
    "\n",
    "# Close the connection\n",
    "conn.close()"
   ]
  },
  {
   "cell_type": "code",
   "execution_count": 251,
   "id": "b3ac73ec-185b-49a9-ac4a-489d47a2b033",
   "metadata": {},
   "outputs": [
    {
     "name": "stdout",
     "output_type": "stream",
     "text": [
      "<class 'pandas.core.frame.DataFrame'>\n",
      "RangeIndex: 4005691 entries, 0 to 4005690\n",
      "Data columns (total 17 columns):\n",
      " #   Column                   Dtype         \n",
      "---  ------                   -----         \n",
      " 0   order_id                 int64         \n",
      " 1   pickup_time              datetime64[ns]\n",
      " 2   accept_time              datetime64[ns]\n",
      " 3   hour_of_day              int64         \n",
      " 4   day_of_week              int64         \n",
      " 5   month                    int64         \n",
      " 6   pickup_eta_minutes       float64       \n",
      " 7   pickup_time_delay        float64       \n",
      " 8   pickup_distance_km       float64       \n",
      " 9   cluster                  int64         \n",
      " 10  avg_pickup_time_minutes  float64       \n",
      " 11  pickup_order_count       int64         \n",
      " 12  city                     object        \n",
      " 13  city_order_count         int64         \n",
      " 14  is_delayed               object        \n",
      " 15  speed_kmh                int64         \n",
      " 16  speed_status             object        \n",
      "dtypes: datetime64[ns](2), float64(4), int64(8), object(3)\n",
      "memory usage: 519.5+ MB\n"
     ]
    }
   ],
   "source": [
    "df.info()"
   ]
  },
  {
   "cell_type": "markdown",
   "id": "582c95e9-62e3-4888-910a-748b1ba7b4cd",
   "metadata": {
    "jp-MarkdownHeadingCollapsed": true
   },
   "source": [
    "#### Principal Component Analysis (PCA): Reduce high-dimensional data while maintaining variance."
   ]
  },
  {
   "cell_type": "code",
   "execution_count": 23,
   "id": "edbbff9e-254c-47ed-8517-190b3d27c817",
   "metadata": {},
   "outputs": [
    {
     "name": "stdout",
     "output_type": "stream",
     "text": [
      "Categorical Columns: ['pickup_time', 'accept_time', 'city', 'is_delayed', 'speed_status']\n",
      "Numerical Columns: ['hour_of_day', 'day_of_week', 'month', 'pickup_eta_minutes', 'pickup_time_delay', 'pickup_distance_km', 'cluster', 'avg_pickup_time_minutes', 'pickup_order_count', 'city_order_count', 'speed_kmh']\n"
     ]
    }
   ],
   "source": [
    "# 1. Preprocessing: Handling categorical variables\n",
    "# Encoding categorical variables\n",
    "label_encoder = LabelEncoder()\n",
    "df_sample = df.sample(frac=0.2, random_state=42)\n",
    "categorical_cols = df_sample.select_dtypes(include=['object', 'datetime64[ns]']).columns.tolist()\n",
    "print(f\"Categorical Columns: {categorical_cols}\")\n",
    "\n",
    "# 2. Drop the non-numerical columns if they are not required for PCA\n",
    "# In this case, let's keep only the numeric columns\n",
    "numerical_columns = df_sample.select_dtypes(include=['float64', 'int64']).columns\n",
    "df_numeric = df_sample[numerical_columns]\n",
    "\n",
    "#removing order_id as its not necessary for PCA\n",
    "df_numeric = df_numeric.drop('order_id', axis=1) \n",
    "columns_list = df_numeric.columns.tolist()\n",
    "print(f\"Numerical Columns:\", columns_list)\n",
    "\n",
    "# 3. Standardize the data (PCA is sensitive to scale)\n",
    "scaler = StandardScaler()\n",
    "df_scaled = pd.DataFrame(scaler.fit_transform(df_numeric), columns=df_numeric.columns)"
   ]
  },
  {
   "cell_type": "code",
   "execution_count": 4,
   "id": "ef4bdead",
   "metadata": {},
   "outputs": [
    {
     "name": "stdout",
     "output_type": "stream",
     "text": [
      "Number of rows: 801138\n"
     ]
    }
   ],
   "source": [
    "row_count = df_numeric.shape[0]\n",
    "print(\"Number of rows:\", row_count)"
   ]
  },
  {
   "cell_type": "code",
   "execution_count": 24,
   "id": "04aad1d9-852c-4454-b09b-6c93abc4bb78",
   "metadata": {},
   "outputs": [
    {
     "name": "stdout",
     "output_type": "stream",
     "text": [
      "Number of components needed for 95% variance: 10\n"
     ]
    }
   ],
   "source": [
    "import numpy as np\n",
    "import matplotlib.pyplot as plt\n",
    "\n",
    "# PCA apply\n",
    "pca = PCA()\n",
    "pca.fit(df_scaled)\n",
    "\n",
    "# Find optimal number of components\n",
    "cumulative_variance = pca.explained_variance_ratio_.cumsum()\n",
    "n_components = (cumulative_variance >= 0.95).argmax() + 1\n",
    "\n",
    "print(f\"Number of components needed for 95% variance: {n_components}\")"
   ]
  },
  {
   "cell_type": "code",
   "execution_count": 25,
   "id": "d5de96c0-5a6d-428f-8f2c-b552d194f60d",
   "metadata": {},
   "outputs": [
    {
     "data": {
      "image/png": "[encoded data removed]",
      "text/plain": [
       "<Figure size 1000x600 with 1 Axes>"
      ]
     },
     "metadata": {},
     "output_type": "display_data"
    }
   ],
   "source": [
    "import matplotlib.pyplot as plt\n",
    "import numpy as np\n",
    "import pandas as pd\n",
    "from sklearn.decomposition import PCA\n",
    "\n",
    "# Apply PCA\n",
    "pca = PCA(n_components=n_components)\n",
    "pca_result = pca.fit_transform(df_scaled)\n",
    "\n",
    "# Explained variance\n",
    "explained_variance = pca.explained_variance_ratio_\n",
    "cumulative_variance = np.cumsum(explained_variance)\n",
    "\n",
    "# Get PCA loadings (how original features contribute to each component)\n",
    "pca_loadings = pd.DataFrame(pca.components_, columns=df_scaled.columns, index=[f'PCA{i+1}' for i in range(n_components)])\n",
    "\n",
    "# Get top 2 contributing features per PCA component\n",
    "top_n = 2  # You can change this to 3 if needed\n",
    "top_features_per_component = pca_loadings.abs().apply(lambda x: x.nlargest(top_n).index.tolist(), axis=1)\n",
    "\n",
    "# Convert list to string format for annotations\n",
    "top_features_str = top_features_per_component.apply(lambda x: ', '.join(x))\n",
    "\n",
    "# Ensure features are annotated only once in the graph\n",
    "used_features = set()  # To track used features\n",
    "\n",
    "# Fix for mismatched dimensions\n",
    "num_components = len(explained_variance)\n",
    "\n",
    "# Plot Explained Variance\n",
    "plt.figure(figsize=(10, 6))\n",
    "plt.plot(range(1, num_components + 1), cumulative_variance, marker='o', linestyle='-', color='b', label='Cumulative Variance')\n",
    "plt.bar(range(1, num_components + 1), explained_variance, alpha=0.5, align='center', color='g', label='Explained Variance')\n",
    "\n",
    "# Annotate the bars with the most important features (only if not used before)\n",
    "for i, (var, features) in enumerate(zip(explained_variance, top_features_per_component)):\n",
    "    for feature in features:\n",
    "        if feature not in used_features:\n",
    "            plt.text(i + 1, var + 0.02, feature, ha='center', fontsize=10, rotation=45, color='red')\n",
    "            used_features.add(feature)  # Mark feature as used\n",
    "            break  # Only take the first new unique feature\n",
    "\n",
    "plt.xlabel('Number of Principal Components')\n",
    "plt.ylabel('Variance Explained')\n",
    "plt.title('Explained Variance by Principal Components')\n",
    "plt.legend()\n",
    "plt.grid(True)\n",
    "plt.show()"
   ]
  },
  {
   "cell_type": "code",
   "execution_count": 26,
   "id": "471ae9e2",
   "metadata": {},
   "outputs": [
    {
     "name": "stdout",
     "output_type": "stream",
     "text": [
      "Best Original Features for Model Development: ['speed_kmh', 'city_order_count', 'pickup_time_delay', 'pickup_distance_km', 'avg_pickup_time_minutes', 'pickup_eta_minutes', 'month', 'cluster', 'day_of_week', 'pickup_order_count']\n"
     ]
    }
   ],
   "source": [
    "# Get the PCA loadings (component matrix)\n",
    "pca_loadings = pd.DataFrame(pca.components_, columns=df_scaled.columns, index=[f'PCA{i+1}' for i in range(n_components)])\n",
    "\n",
    "# Take absolute values to see overall importance (since negative and positive both contribute)\n",
    "pca_feature_importance = pca_loadings.abs().sum(axis=0)\n",
    "\n",
    "# Rank features by importance\n",
    "sorted_features = pca_feature_importance.sort_values(ascending=False)\n",
    "\n",
    "# Select top N original features based on cumulative importance\n",
    "top_n = 10  # Choose based on requirement\n",
    "best_original_features = sorted_features.index[:top_n].tolist()\n",
    "\n",
    "print(\"Best Original Features for Model Development:\", best_original_features)\n",
    "\n",
    "# Create a new DataFrame with selected original features\n",
    "df_selected_features = df_sample[best_original_features]"
   ]
  },
  {
   "cell_type": "code",
   "execution_count": 26,
   "id": "1080fad4",
   "metadata": {},
   "outputs": [
    {
     "name": "stdout",
     "output_type": "stream",
     "text": [
      "<class 'pandas.core.frame.DataFrame'>\n",
      "RangeIndex: 4005691 entries, 0 to 4005690\n",
      "Data columns (total 10 columns):\n",
      " #   Column                   Dtype  \n",
      "---  ------                   -----  \n",
      " 0   speed_kmh                int64  \n",
      " 1   city_order_count         int64  \n",
      " 2   pickup_time_delay        float64\n",
      " 3   pickup_distance_km       float64\n",
      " 4   avg_pickup_time_minutes  float64\n",
      " 5   pickup_eta_minutes       float64\n",
      " 6   month                    int64  \n",
      " 7   cluster                  int64  \n",
      " 8   day_of_week              int64  \n",
      " 9   pickup_order_count       int64  \n",
      "dtypes: float64(4), int64(6)\n",
      "memory usage: 305.6 MB\n"
     ]
    }
   ],
   "source": [
    "df_selected_features.info()"
   ]
  },
  {
   "cell_type": "code",
   "execution_count": null,
   "id": "7976bf47",
   "metadata": {},
   "outputs": [],
   "source": [
    "# By looking at graoh above above and top features after PCA having highest variance we'll select these 10 columns fro our model building."
   ]
  },
  {
   "cell_type": "markdown",
   "id": "3e47bd92-b96b-46cb-9677-55c09cbaf19d",
   "metadata": {
    "jp-MarkdownHeadingCollapsed": true
   },
   "source": [
    "#### Mutual Information (MI) Score: Rank features based on their correlation with ETA & delays."
   ]
  },
  {
   "cell_type": "code",
   "execution_count": 27,
   "id": "892f61cb-ae2d-4e04-944e-06fe3881e1b0",
   "metadata": {},
   "outputs": [
    {
     "name": "stdout",
     "output_type": "stream",
     "text": [
      "Mutual Information with ETA (Continuous Target):\n",
      "        Feature  MI with ETA\n",
      "0   pickup_time     0.495575\n",
      "1   accept_time     0.125835\n",
      "3    is_delayed     0.086736\n",
      "4  speed_status     0.032106\n",
      "2          city     0.004063\n",
      "\n",
      "Mutual Information with Delays (Categorical Target):\n",
      "        Feature  MI with Delayed\n",
      "0   pickup_time         2.953639\n",
      "3    is_delayed         0.580205\n",
      "4  speed_status         0.085012\n",
      "1   accept_time         0.014959\n",
      "2          city         0.009405\n"
     ]
    }
   ],
   "source": [
    "# Apply Label Encoding for Full Dataset\n",
    "encoder = LabelEncoder()\n",
    "df_encoded = df_sample[categorical_cols].apply(lambda col: encoder.fit_transform(col.astype(str)))\n",
    "# df_encoded_for_delay = df_sample[categorical_cols].drop(columns=['is_delayed'], errors='ignore').apply(lambda col: encoder.fit_transform(col.astype(str)))\n",
    "\n",
    "# Target variables\n",
    "y_eta = df_sample['pickup_eta_minutes']  # Continuous target\n",
    "y_delayed = df_sample['pickup_time_delay']  # Categorical target (binary: 1 or 0)\n",
    "\n",
    "# Compute Mutual Information for ETA (continuous target)\n",
    "mi_eta = mutual_info_regression(df_encoded, y_eta)\n",
    "\n",
    "# Compute Mutual Information for Delays (categorical target)\n",
    "mi_delayed = mutual_info_regression(df_encoded, y_delayed)\n",
    "\n",
    "# Create DataFrames to view the results\n",
    "mi_eta_df = pd.DataFrame({\n",
    "    'Feature': df_encoded.columns,\n",
    "    'MI with ETA': mi_eta\n",
    "}).sort_values(by='MI with ETA', ascending=False)\n",
    "\n",
    "mi_delayed_df = pd.DataFrame({\n",
    "    'Feature': df_encoded.columns,\n",
    "    'MI with Delayed': mi_delayed\n",
    "}).sort_values(by='MI with Delayed', ascending=False)\n",
    "\n",
    "# Print the results\n",
    "print(\"Mutual Information with ETA (Continuous Target):\")\n",
    "print(mi_eta_df)\n",
    "\n",
    "print(\"\\nMutual Information with Delays (Categorical Target):\")\n",
    "print(mi_delayed_df)"
   ]
  },
  {
   "cell_type": "code",
   "execution_count": 37,
   "id": "713503fd",
   "metadata": {},
   "outputs": [
    {
     "name": "stdout",
     "output_type": "stream",
     "text": [
      "Selected Features (Full Data) ['pickup_time', 'accept_time', 'is_delayed', 'speed_status']\n"
     ]
    }
   ],
   "source": [
    "# Select Only Important Features, we'll do it only one time as both eta and delay have same Mi score feature columns\n",
    "important_categorical_features = mi_eta_df[mi_eta_df['MI with ETA'] > 0.01]['Feature'].tolist()\n",
    "df_mi_selected_full = df_sample[important_categorical_features]\n",
    "\n",
    "print(\"Selected Features (Full Data)\", important_categorical_features)"
   ]
  },
  {
   "cell_type": "markdown",
   "id": "bb9eea3e",
   "metadata": {},
   "source": [
    "##### Combining the dataframe of PCA and Mi score for final dataframe "
   ]
  },
  {
   "cell_type": "code",
   "execution_count": 38,
   "id": "9be5f940",
   "metadata": {},
   "outputs": [
    {
     "name": "stdout",
     "output_type": "stream",
     "text": [
      "Final Data Shape ETA: (801138, 14)\n"
     ]
    }
   ],
   "source": [
    "# Merge PCA-transformed features with MI-selected categorical features for ETA\n",
    "df_final = pd.concat([df_mi_selected_full.reset_index(drop=True), df_selected_features.reset_index(drop=True)], axis=1)\n",
    "print(\"Final Data Shape ETA:\", df_final.shape)  # Should be (801138, 14)"
   ]
  },
  {
   "cell_type": "code",
   "execution_count": 39,
   "id": "1c0b8052",
   "metadata": {},
   "outputs": [
    {
     "data": {
      "text/plain": [
       "np.int64(0)"
      ]
     },
     "execution_count": 39,
     "metadata": {},
     "output_type": "execute_result"
    }
   ],
   "source": [
    "df_final.isna().sum().sum()"
   ]
  },
  {
   "cell_type": "code",
   "execution_count": 40,
   "id": "fc95f2c0",
   "metadata": {},
   "outputs": [
    {
     "data": {
      "text/plain": [
       "pickup_time                0\n",
       "accept_time                0\n",
       "is_delayed                 0\n",
       "speed_status               0\n",
       "speed_kmh                  0\n",
       "city_order_count           0\n",
       "pickup_time_delay          0\n",
       "pickup_distance_km         0\n",
       "avg_pickup_time_minutes    0\n",
       "pickup_eta_minutes         0\n",
       "month                      0\n",
       "cluster                    0\n",
       "day_of_week                0\n",
       "pickup_order_count         0\n",
       "dtype: int64"
      ]
     },
     "execution_count": 40,
     "metadata": {},
     "output_type": "execute_result"
    }
   ],
   "source": [
    "df_final.replace(\"NaN\", pd.NA, inplace=True)  # Convert 'NaN' string to actual NaN\n",
    "df_final.isna().sum()"
   ]
  },
  {
   "cell_type": "markdown",
   "id": "554892d4-72be-4615-a429-3499b6aa5532",
   "metadata": {
    "jp-MarkdownHeadingCollapsed": true
   },
   "source": [
    "#### Save Data to postgres"
   ]
  },
  {
   "cell_type": "code",
   "execution_count": 45,
   "id": "af6ced45-86f5-4e01-888b-8466e4c75ab0",
   "metadata": {},
   "outputs": [
    {
     "name": "stdout",
     "output_type": "stream",
     "text": [
      "Data successfully inserted into the new table 'feature_engineering_pickup'.\n"
     ]
    }
   ],
   "source": [
    "from psycopg2.extras import execute_values\n",
    "\n",
    "conn = psycopg2.connect(\n",
    "    host='localhost',\n",
    "    port=5432,\n",
    "    user='postgres',\n",
    "    password='root',\n",
    "    dbname='postgres'\n",
    ")\n",
    "\n",
    "cursor = conn.cursor()\n",
    "\n",
    "table_name = 'feature_engineering_pickup'\n",
    "\n",
    "# Step 1: Create a table dynamically based on the DataFrame columns\n",
    "columns_with_types = []\n",
    "# Define column types based on the schema\n",
    "column_types = {\n",
    "    'pickup_time': 'TIMESTAMP',\n",
    "    'accept_time': 'TIMESTAMP',\n",
    "    'is_delayed': 'VARCHAR',\n",
    "    'speed_status': 'VARCHAR', \n",
    "    'speed_kmh': 'FLOAT',\n",
    "    'city_order_count': 'FLOAT',\n",
    "    'pickup_time_delay': 'FLOAT',\n",
    "    'pickup_distance_km': 'FLOAT',\n",
    "    'avg_pickup_time_minutes': 'FLOAT',\n",
    "    'month': 'FLOAT',\n",
    "    'cluster': 'FLOAT',\n",
    "    'day_of_week': 'FLOAT',\n",
    "    'pickup_order_count': 'FLOAT',\n",
    "    'is_delayed':'VARCHAR',\n",
    "    'pickup_eta_minutes': 'FLOAT'\n",
    "}\n",
    "\n",
    "# Generate the column definitions with types\n",
    "for col, dtype in column_types.items():\n",
    "    columns_with_types.append(f'\"{col}\" {dtype}')\n",
    "\n",
    "create_table_query = f\"CREATE TABLE IF NOT EXISTS {table_name} ({', '.join(columns_with_types)});\"\n",
    "cursor.execute(create_table_query)\n",
    "\n",
    "# Step 2: Insert data into the newly created table\n",
    "insert_query = f\"INSERT INTO {table_name} ({', '.join(df_final.columns)}) VALUES %s\"\n",
    "values = df_final.values.tolist()\n",
    "\n",
    "# Use execute_values to insert multiple rows efficiently\n",
    "execute_values(cursor, insert_query, values)\n",
    "\n",
    "# Commit the transaction to make changes persistent\n",
    "conn.commit()\n",
    "\n",
    "# Close the cursor and connection\n",
    "cursor.close()\n",
    "conn.close()\n",
    "\n",
    "print(f\"Data successfully inserted into the new table '{table_name}'.\")"
   ]
  },
  {
   "cell_type": "code",
   "execution_count": 46,
   "id": "419ae37a-f540-4490-a4fd-3f0e6002b319",
   "metadata": {},
   "outputs": [
    {
     "name": "stdout",
     "output_type": "stream",
     "text": [
      "Data saved to csv successfully to csv\n"
     ]
    }
   ],
   "source": [
    "# Save the DataFrame to a CSV file after inserting into the database\n",
    "output_path = r'C:\\Users\\Dusty\\Downloads\\Internship\\Last-Mile-Delivery-Delays-and-Route-Optimization\\data\\feature_pca_mi_pickup.csv'\n",
    "\n",
    "df_final.to_csv(output_path, index=False)\n",
    "print(\"Data saved to csv successfully to csv\")"
   ]
  },
  {
   "cell_type": "markdown",
   "id": "159c0144-2300-4817-9ca8-edb5dd90ba85",
   "metadata": {
    "jp-MarkdownHeadingCollapsed": true
   },
   "source": [
    "### PCA And MI score for Delivery Data "
   ]
  },
  {
   "cell_type": "markdown",
   "id": "976f1f7f-de41-45af-ba41-617cd6e66c00",
   "metadata": {
    "jp-MarkdownHeadingCollapsed": true
   },
   "source": [
    "#### Reading the featured delivery data from postgresql"
   ]
  },
  {
   "cell_type": "code",
   "execution_count": 2,
   "id": "27284c5c-b768-4d94-9beb-014ebd67d937",
   "metadata": {},
   "outputs": [
    {
     "name": "stderr",
     "output_type": "stream",
     "text": [
      "C:\\Users\\Dusty\\AppData\\Local\\Temp\\ipykernel_10348\\32462801.py:12: UserWarning: pandas only supports SQLAlchemy connectable (engine/connection) or database string URI or sqlite3 DBAPI2 connection. Other DBAPI2 objects are not tested. Please consider using SQLAlchemy.\n",
      "  df_delivery = pd.read_sql(query, conn)\n"
     ]
    }
   ],
   "source": [
    "conn = psycopg2.connect(\n",
    "    dbname=\"postgres\", \n",
    "    user=\"postgres\", \n",
    "    password=\"root\", \n",
    "    host=\"localhost\", \n",
    "    port=\"5432\"\n",
    ")\n",
    "# Query to get data\n",
    "query = \"SELECT * FROM feature_engg_delivery_data\"\n",
    "\n",
    "# Use pandas to read the SQL query result directly into a DataFrame\n",
    "df_delivery = pd.read_sql(query, conn)\n",
    "\n",
    "# Close the connection\n",
    "conn.close()"
   ]
  },
  {
   "cell_type": "code",
   "execution_count": 265,
   "id": "d713c268-7e56-4896-9fad-02d76504eb8f",
   "metadata": {},
   "outputs": [
    {
     "name": "stdout",
     "output_type": "stream",
     "text": [
      "<class 'pandas.core.frame.DataFrame'>\n",
      "RangeIndex: 2653061 entries, 0 to 2653060\n",
      "Data columns (total 17 columns):\n",
      " #   Column                     Dtype         \n",
      "---  ------                     -----         \n",
      " 0   order_id                   int64         \n",
      " 1   delivery_time              datetime64[ns]\n",
      " 2   accept_time                datetime64[ns]\n",
      " 3   hour_of_day                int64         \n",
      " 4   day_of_week                int64         \n",
      " 5   month                      int64         \n",
      " 6   delivery_eta_minutes       float64       \n",
      " 7   delivery_time_delay        float64       \n",
      " 8   delivery_distance_km       float64       \n",
      " 9   cluster                    int64         \n",
      " 10  avg_delivery_time_minutes  float64       \n",
      " 11  delivery_order_count       int64         \n",
      " 12  city                       object        \n",
      " 13  city_order_count           int64         \n",
      " 14  is_delayed                 object        \n",
      " 15  speed_kmh                  int64         \n",
      " 16  speed_status               object        \n",
      "dtypes: datetime64[ns](2), float64(4), int64(8), object(3)\n",
      "memory usage: 344.1+ MB\n"
     ]
    }
   ],
   "source": [
    "df_delivery.info()"
   ]
  },
  {
   "cell_type": "code",
   "execution_count": 11,
   "id": "f490bfd8",
   "metadata": {},
   "outputs": [
    {
     "data": {
      "text/html": [
       "<div>\n",
       "<style scoped>\n",
       "    .dataframe tbody tr th:only-of-type {\n",
       "        vertical-align: middle;\n",
       "    }\n",
       "\n",
       "    .dataframe tbody tr th {\n",
       "        vertical-align: top;\n",
       "    }\n",
       "\n",
       "    .dataframe thead th {\n",
       "        text-align: right;\n",
       "    }\n",
       "</style>\n",
       "<table border=\"1\" class=\"dataframe\">\n",
       "  <thead>\n",
       "    <tr style=\"text-align: right;\">\n",
       "      <th></th>\n",
       "      <th>delivery_eta_minutes</th>\n",
       "    </tr>\n",
       "  </thead>\n",
       "  <tbody>\n",
       "    <tr>\n",
       "      <th>max</th>\n",
       "      <td>128630.0</td>\n",
       "    </tr>\n",
       "    <tr>\n",
       "      <th>min</th>\n",
       "      <td>-421357.0</td>\n",
       "    </tr>\n",
       "  </tbody>\n",
       "</table>\n",
       "</div>"
      ],
      "text/plain": [
       "     delivery_eta_minutes\n",
       "max              128630.0\n",
       "min             -421357.0"
      ]
     },
     "execution_count": 11,
     "metadata": {},
     "output_type": "execute_result"
    }
   ],
   "source": [
    "df_delivery[['delivery_eta_minutes']].agg(['max', 'min'])"
   ]
  },
  {
   "cell_type": "markdown",
   "id": "ab421336-d1a2-418b-8cc2-1d4d4cefaf20",
   "metadata": {
    "jp-MarkdownHeadingCollapsed": true
   },
   "source": [
    "#### Principal Component Analysis (PCA): Reduce high-dimensional data while maintaining variance."
   ]
  },
  {
   "cell_type": "code",
   "execution_count": 3,
   "id": "cb0e9744-c109-476f-b850-09a8884021a0",
   "metadata": {},
   "outputs": [
    {
     "name": "stdout",
     "output_type": "stream",
     "text": [
      "Categorical Columns: ['delivery_time', 'accept_time', 'city', 'is_delayed', 'speed_status']\n",
      "Numerical Columns: ['hour_of_day', 'day_of_week', 'month', 'delivery_eta_minutes', 'delivery_time_delay', 'delivery_distance_km', 'cluster', 'avg_delivery_time_minutes', 'delivery_order_count', 'city_order_count', 'speed_kmh']\n"
     ]
    }
   ],
   "source": [
    "# 1. Preprocessing: Handling categorical variables\n",
    "# Encoding categorical variables\n",
    "label_encoder = LabelEncoder()\n",
    "df_sample = df_delivery.sample(frac=0.2, random_state=42)\n",
    "categorical_cols = df_sample.select_dtypes(include=['object', 'datetime64[ns]']).columns.tolist()\n",
    "print(f\"Categorical Columns: {categorical_cols}\")\n",
    "\n",
    "# 2. Drop the non-numerical columns if they are not required for PCA\n",
    "# In this case, let's keep only the numeric columns\n",
    "numerical_columns = df_sample.select_dtypes(include=['float64', 'int64']).columns\n",
    "df_numeric = df_sample[numerical_columns]\n",
    "\n",
    "#removing order_id as its not necessary for PCA\n",
    "df_numeric = df_numeric.drop('order_id', axis=1) \n",
    "columns_list = df_numeric.columns.tolist()\n",
    "print(f\"Numerical Columns:\", columns_list)\n",
    "\n",
    "# 3. Standardize the data (PCA is sensitive to scale)\n",
    "scaler = StandardScaler()\n",
    "df_scaled = pd.DataFrame(scaler.fit_transform(df_numeric), columns=df_numeric.columns)"
   ]
  },
  {
   "cell_type": "code",
   "execution_count": 7,
   "id": "84570228-06c7-4335-9b32-c13b1fc5b5db",
   "metadata": {},
   "outputs": [
    {
     "data": {
      "image/png": "[encoded data removed]",
      "text/plain": [
       "<Figure size 1000x500 with 1 Axes>"
      ]
     },
     "metadata": {},
     "output_type": "display_data"
    },
    {
     "name": "stdout",
     "output_type": "stream",
     "text": [
      "Number of components needed for 95% variance: 9\n"
     ]
    }
   ],
   "source": [
    "import numpy as np\n",
    "import matplotlib.pyplot as plt\n",
    "\n",
    "# PCA apply\n",
    "pca = PCA()\n",
    "pca.fit(df_scaled)\n",
    "\n",
    "# Cumulative explained variance plot\n",
    "plt.figure(figsize=(10,5))\n",
    "plt.plot(np.cumsum(pca.explained_variance_ratio_), marker='o', linestyle='--')\n",
    "plt.xlabel(\"Number of Principal Components\")\n",
    "plt.ylabel(\"Cumulative Explained Variance\")\n",
    "plt.title(\"PCA Explained Variance\")\n",
    "plt.grid()\n",
    "plt.show()\n",
    "\n",
    "# Find optimal number of components\n",
    "cumulative_variance = pca.explained_variance_ratio_.cumsum()\n",
    "n_components = (cumulative_variance >= 0.95).argmax() + 1\n",
    "\n",
    "print(f\"Number of components needed for 95% variance: {n_components}\")"
   ]
  },
  {
   "cell_type": "code",
   "execution_count": 8,
   "id": "3ec186b2-9beb-4057-9a9c-889ce85caeb2",
   "metadata": {},
   "outputs": [
    {
     "name": "stdout",
     "output_type": "stream",
     "text": [
      "Explained variance ratio: [0.21411258 0.14043622 0.11831707 0.10952292 0.09096113 0.08897392\n",
      " 0.07368472 0.06517159 0.05472332]\n",
      "Cumulative variance explained: 1.0000\n",
      "Number of components needed for 95% variance: 9\n",
      "Shape of PCA Transformed Data: (530612, 9)\n",
      "PCA Columns: Index(['PCA1', 'PCA2', 'PCA3', 'PCA4', 'PCA5', 'PCA6', 'PCA7', 'PCA8', 'PCA9'], dtype='object')\n"
     ]
    }
   ],
   "source": [
    "# 4. Apply PCA\n",
    "pca = PCA(n_components=n_components)\n",
    "pca_result = pca.fit_transform(df_scaled)\n",
    "\n",
    "# 5. Create a DataFrame to store the PCA components\n",
    "pca_df = pd.DataFrame(data=pca_result, columns=[f'PCA{i+1}' for i in range(n_components)])\n",
    "\n",
    "# Round the PCA columns to 4 decimal places\n",
    "pca_df = pca_df.round(4)\n",
    "\n",
    "# add the explained variance ratio (to see how much variance each component explains)\n",
    "explained_variance = pca.explained_variance_ratio_\n",
    "print(f'Explained variance ratio: {explained_variance}')\n",
    "print(f'Cumulative variance explained: {cumulative_variance[-1]:.4f}')\n",
    "\n",
    "# Optionally, add the PCA components back to the original dataframe\n",
    "for i in range(n_components):\n",
    "    df_delivery[f'PCA{i+1}'] = pca_df[f'PCA{i+1}']\n",
    "\n",
    "print(f\"Number of components needed for 95% variance: {n_components}\")\n",
    "\n",
    "# Convert PCA Output to DataFrame\n",
    "pca_columns = [f'PCA{i+1}' for i in range(pca_df.shape[1])]\n",
    "df_pca_final = pd.DataFrame(pca_df.values, columns=pca_columns)\n",
    "\n",
    "print(\"Shape of PCA Transformed Data:\", df_pca_final.shape)\n",
    "print(f\"PCA Columns:\", df_pca_final.columns)"
   ]
  },
  {
   "cell_type": "markdown",
   "id": "f0a5d3b2-400c-4dd9-b23d-65424985c23b",
   "metadata": {
    "jp-MarkdownHeadingCollapsed": true
   },
   "source": [
    "#### Mutual Information (MI) Score: Rank features based on their correlation with ETA & delays."
   ]
  },
  {
   "cell_type": "code",
   "execution_count": 9,
   "id": "365ea208-51aa-4f71-97a8-6d6f4330c2f4",
   "metadata": {},
   "outputs": [
    {
     "name": "stdout",
     "output_type": "stream",
     "text": [
      "Mutual Information with ETA (Continuous Target):\n",
      "         Feature  MI with ETA\n",
      "3     is_delayed     0.316158\n",
      "0  delivery_time     0.214076\n",
      "2           city     0.107076\n",
      "1    accept_time     0.093080\n",
      "4   speed_status     0.011859\n",
      "\n",
      "Mutual Information with Delays (Categorical Target):\n",
      "         Feature  MI with Delayed\n",
      "3     is_delayed         0.315600\n",
      "0  delivery_time         0.213930\n",
      "2           city         0.106562\n",
      "1    accept_time         0.092746\n",
      "4   speed_status         0.010283\n"
     ]
    }
   ],
   "source": [
    "# Apply Label Encoding for Full Dataset\n",
    "encoder = LabelEncoder()\n",
    "df_encoded = df_sample[categorical_cols].apply(lambda col: encoder.fit_transform(col.astype(str)))\n",
    "\n",
    "# Target variables\n",
    "y_eta = df_sample['delivery_eta_minutes']  # Continuous target\n",
    "y_delayed = df_sample['delivery_time_delay']  # Categorical target (binary: 1 or 0)\n",
    "\n",
    "# Compute Mutual Information for ETA (continuous target)\n",
    "mi_eta = mutual_info_regression(df_encoded, y_eta)\n",
    "\n",
    "# Compute Mutual Information for Delays (categorical target)\n",
    "mi_delayed = mutual_info_regression(df_encoded, y_delayed)\n",
    "\n",
    "# Create DataFrames to view the results\n",
    "mi_eta_df = pd.DataFrame({\n",
    "    'Feature': df_encoded.columns,\n",
    "    'MI with ETA': mi_eta\n",
    "}).sort_values(by='MI with ETA', ascending=False)\n",
    "\n",
    "mi_delayed_df = pd.DataFrame({\n",
    "    'Feature': df_encoded.columns,\n",
    "    'MI with Delayed': mi_delayed\n",
    "}).sort_values(by='MI with Delayed', ascending=False)\n",
    "\n",
    "# Print the results\n",
    "print(\"Mutual Information with ETA (Continuous Target):\")\n",
    "print(mi_eta_df)\n",
    "\n",
    "print(\"\\nMutual Information with Delays (Categorical Target):\")\n",
    "print(mi_delayed_df)"
   ]
  },
  {
   "cell_type": "code",
   "execution_count": 12,
   "id": "635c2c75",
   "metadata": {},
   "outputs": [
    {
     "name": "stdout",
     "output_type": "stream",
     "text": [
      "Selected Features (Full Data) ['is_delayed', 'delivery_time', 'city', 'accept_time', 'speed_status']\n"
     ]
    }
   ],
   "source": [
    "# Select Only Important Features, we'll do it only one time as both eta and delay have same Mi score feature columns\n",
    "important_categorical_features = mi_eta_df[mi_eta_df['MI with ETA'] > 0.01]['Feature'].tolist()\n",
    "df_mi_selected_full = df_sample[important_categorical_features]\n",
    "\n",
    "print(\"Selected Features (Full Data)\", important_categorical_features)"
   ]
  },
  {
   "cell_type": "code",
   "execution_count": 13,
   "id": "3408a035",
   "metadata": {},
   "outputs": [
    {
     "name": "stdout",
     "output_type": "stream",
     "text": [
      "Final Data Shape ETA: (530612, 14)\n"
     ]
    }
   ],
   "source": [
    "# Merge PCA-transformed features with MI-selected categorical features for ETA\n",
    "df_final = pd.concat([\n",
    "    df_mi_selected_full.reset_index(drop=True), df_pca_final], axis=1)\n",
    "\n",
    "print(\"Final Data Shape ETA:\", df_final.shape)"
   ]
  },
  {
   "cell_type": "code",
   "execution_count": 14,
   "id": "0c5ad324",
   "metadata": {},
   "outputs": [
    {
     "name": "stdout",
     "output_type": "stream",
     "text": [
      "Number of rows: 530612\n"
     ]
    }
   ],
   "source": [
    "row_count = df_sample.shape[0]\n",
    "print(\"Number of rows:\", row_count)"
   ]
  },
  {
   "cell_type": "code",
   "execution_count": 15,
   "id": "ba96cce1",
   "metadata": {},
   "outputs": [],
   "source": [
    "#adding delivery_eta_minutes to the df_final as its needed for model development\n",
    "df_final = pd.concat([df_final.reset_index(drop=True), df_sample[['delivery_eta_minutes']].reset_index(drop=True)], axis=1)"
   ]
  },
  {
   "cell_type": "markdown",
   "id": "870bfbbb-a1a7-41d8-bd56-eda8cbc184bf",
   "metadata": {
    "jp-MarkdownHeadingCollapsed": true
   },
   "source": [
    "#### Save data to Postgres"
   ]
  },
  {
   "cell_type": "code",
   "execution_count": 326,
   "id": "dca0d287",
   "metadata": {},
   "outputs": [
    {
     "data": {
      "text/plain": [
       "is_delayed              0\n",
       "delivery_time           0\n",
       "city                    0\n",
       "accept_time             0\n",
       "speed_status            0\n",
       "PCA1                    0\n",
       "PCA2                    0\n",
       "PCA3                    0\n",
       "PCA4                    0\n",
       "PCA5                    0\n",
       "PCA6                    0\n",
       "PCA7                    0\n",
       "PCA8                    0\n",
       "PCA9                    0\n",
       "delivery_eta_minutes    0\n",
       "dtype: int64"
      ]
     },
     "execution_count": 326,
     "metadata": {},
     "output_type": "execute_result"
    }
   ],
   "source": [
    "df_final.replace(\"NaN\", pd.NA, inplace=True)  # Convert 'NaN' string to actual NaN\n",
    "df_final.isna().sum()"
   ]
  },
  {
   "cell_type": "code",
   "execution_count": 327,
   "id": "1bef0518-1c56-44ac-abff-00860d9fa440",
   "metadata": {},
   "outputs": [
    {
     "name": "stdout",
     "output_type": "stream",
     "text": [
      "Data successfully inserted into the new table 'feature_engineering_delivery'.\n"
     ]
    }
   ],
   "source": [
    "from psycopg2.extras import execute_values\n",
    "\n",
    "conn = psycopg2.connect(\n",
    "    host='localhost',\n",
    "    port=5432,\n",
    "    user='postgres',\n",
    "    password='root',\n",
    "    dbname='postgres'\n",
    ")\n",
    "\n",
    "cursor = conn.cursor()\n",
    "\n",
    "table_name = 'feature_engineering_delivery'\n",
    "\n",
    "# Step 1: Create a table dynamically based on the DataFrame columns\n",
    "columns_with_types = []\n",
    "# Define column types based on the schema\n",
    "column_types = {\n",
    "    'delivery_time': 'TIMESTAMP',\n",
    "    'accept_time': 'TIMESTAMP',\n",
    "    'city': 'VARCHAR',\n",
    "    'is_delayed': 'VARCHAR',\n",
    "    'speed_status': 'VARCHAR', \n",
    "    'pca1': 'FLOAT',\n",
    "    'pca2': 'FLOAT',\n",
    "    'pca3': 'FLOAT',\n",
    "    'pca4': 'FLOAT',\n",
    "    'pca5': 'FLOAT',\n",
    "    'pca6': 'FLOAT',\n",
    "    'pca7': 'FLOAT',\n",
    "    'pca8': 'FLOAT',\n",
    "    'pca9': 'FLOAT',\n",
    "    'delivery_eta_minutes': 'FLOAT'\n",
    "}\n",
    "\n",
    "# Generate the column definitions with types\n",
    "for col, dtype in column_types.items():\n",
    "    columns_with_types.append(f'\"{col}\" {dtype}')\n",
    "\n",
    "create_table_query = f\"CREATE TABLE IF NOT EXISTS {table_name} ({', '.join(columns_with_types)});\"\n",
    "cursor.execute(create_table_query)\n",
    "\n",
    "# Step 2: Insert data into the newly created table\n",
    "insert_query = f\"INSERT INTO {table_name} ({', '.join(df_final.columns)}) VALUES %s\"\n",
    "values = df_final.values.tolist()\n",
    "\n",
    "# Use execute_values to insert multiple rows efficiently\n",
    "execute_values(cursor, insert_query, values)\n",
    "\n",
    "# Commit the transaction to make changes persistent\n",
    "conn.commit()\n",
    "\n",
    "# Close the cursor and connection\n",
    "cursor.close()\n",
    "conn.close()\n",
    "\n",
    "print(f\"Data successfully inserted into the new table '{table_name}'.\")"
   ]
  },
  {
   "cell_type": "code",
   "execution_count": 328,
   "id": "b7bd5725-b475-4adf-9487-2ca0f6917105",
   "metadata": {},
   "outputs": [
    {
     "name": "stdout",
     "output_type": "stream",
     "text": [
      "Data saved to csv successfully to csv\n"
     ]
    }
   ],
   "source": [
    "# Save the DataFrame to a CSV file after inserting into the database\n",
    "output_path = r'C:\\Users\\Dusty\\Downloads\\Internship\\Last-Mile-Delivery-Delays-and-Route-Optimization\\data\\feature_pca_mi_delivery.csv'\n",
    "\n",
    "df_final.to_csv(output_path, index=False)\n",
    "print(\"Data saved to csv successfully to csv\")"
   ]
  }
 ],
 "metadata": {
  "kernelspec": {
   "display_name": "Python 3",
   "language": "python",
   "name": "python3"
  },
  "language_info": {
   "codemirror_mode": {
    "name": "ipython",
    "version": 3
   },
   "file_extension": ".py",
   "mimetype": "text/x-python",
   "name": "python",
   "nbconvert_exporter": "python",
   "pygments_lexer": "ipython3",
   "version": "3.10.13"
  }
 },
 "nbformat": 4,
 "nbformat_minor": 5
}
